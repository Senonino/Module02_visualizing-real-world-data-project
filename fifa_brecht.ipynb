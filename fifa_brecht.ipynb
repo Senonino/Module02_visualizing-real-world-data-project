{
 "cells": [
  {
   "cell_type": "code",
   "execution_count": 1,
   "metadata": {},
   "outputs": [],
   "source": [
    "import pandas as pd\n",
    "import numpy as np\n",
    "import seaborn as sns\n",
    "import matplotlib as plt"
   ]
  },
  {
   "cell_type": "code",
   "execution_count": 2,
   "metadata": {},
   "outputs": [],
   "source": [
    "f20 = pd.read_pickle(\"cleaned_fifa20.pkl\")\n",
    "f19 = pd.read_csv(\"cleaned_players_19.csv\")\n",
    "f18 = pd.read_csv(\"cleaned_players_18.csv\")\n",
    "f17 = pd.read_csv(\"cleaned_players_17.csv\")\n",
    "f16 = pd.read_csv(\"cleaned_players_16.csv\")"
   ]
  },
  {
   "cell_type": "code",
   "execution_count": 3,
   "metadata": {},
   "outputs": [
    {
     "data": {
      "text/plain": [
       "(18278, 27)"
      ]
     },
     "execution_count": 3,
     "metadata": {},
     "output_type": "execute_result"
    }
   ],
   "source": [
    "f20.shape"
   ]
  },
  {
   "cell_type": "code",
   "execution_count": 12,
   "metadata": {},
   "outputs": [],
   "source": [
    "f20.to_csv('f20.csv')"
   ]
  },
  {
   "cell_type": "code",
   "execution_count": 4,
   "metadata": {},
   "outputs": [
    {
     "data": {
      "text/plain": [
       "(17770, 28)"
      ]
     },
     "execution_count": 4,
     "metadata": {},
     "output_type": "execute_result"
    }
   ],
   "source": [
    "f19.shape"
   ]
  },
  {
   "cell_type": "code",
   "execution_count": 5,
   "metadata": {},
   "outputs": [
    {
     "data": {
      "text/plain": [
       "(17592, 28)"
      ]
     },
     "execution_count": 5,
     "metadata": {},
     "output_type": "execute_result"
    }
   ],
   "source": [
    "f18.shape"
   ]
  },
  {
   "cell_type": "code",
   "execution_count": 6,
   "metadata": {},
   "outputs": [
    {
     "data": {
      "text/plain": [
       "(17009, 28)"
      ]
     },
     "execution_count": 6,
     "metadata": {},
     "output_type": "execute_result"
    }
   ],
   "source": [
    "f17.shape"
   ]
  },
  {
   "cell_type": "code",
   "execution_count": 7,
   "metadata": {},
   "outputs": [
    {
     "data": {
      "text/plain": [
       "(14881, 28)"
      ]
     },
     "execution_count": 7,
     "metadata": {},
     "output_type": "execute_result"
    }
   ],
   "source": [
    "f16.shape"
   ]
  },
  {
   "cell_type": "code",
   "execution_count": 8,
   "metadata": {},
   "outputs": [
    {
     "data": {
      "text/plain": [
       "Index(['id', 'name', 'age', 'height', 'weight', 'nationality', 'club',\n",
       "       'rating', 'value_M', 'wage_K', 'preferred_foot', 'real_face',\n",
       "       'position', 'jersey_number', 'pace', 'shooting', 'passing', 'dribbling',\n",
       "       'defending', 'physic', 'heading', 'free_kick', 'ball_control',\n",
       "       'acceleration', 'speed', 'real_face_Yes', 'preferred_foot_Right'],\n",
       "      dtype='object')"
      ]
     },
     "execution_count": 8,
     "metadata": {},
     "output_type": "execute_result"
    }
   ],
   "source": [
    "f20.columns"
   ]
  },
  {
   "cell_type": "code",
   "execution_count": 9,
   "metadata": {},
   "outputs": [],
   "source": [
    "hu = f16.drop(columns=\"Unnamed: 0\")"
   ]
  },
  {
   "cell_type": "code",
   "execution_count": 10,
   "metadata": {},
   "outputs": [
    {
     "data": {
      "text/html": [
       "<div>\n",
       "<style scoped>\n",
       "    .dataframe tbody tr th:only-of-type {\n",
       "        vertical-align: middle;\n",
       "    }\n",
       "\n",
       "    .dataframe tbody tr th {\n",
       "        vertical-align: top;\n",
       "    }\n",
       "\n",
       "    .dataframe thead th {\n",
       "        text-align: right;\n",
       "    }\n",
       "</style>\n",
       "<table border=\"1\" class=\"dataframe\">\n",
       "  <thead>\n",
       "    <tr style=\"text-align: right;\">\n",
       "      <th></th>\n",
       "      <th>id</th>\n",
       "      <th>name</th>\n",
       "      <th>age</th>\n",
       "      <th>height</th>\n",
       "      <th>weight</th>\n",
       "      <th>nationality</th>\n",
       "      <th>club</th>\n",
       "      <th>rating</th>\n",
       "      <th>value_M</th>\n",
       "      <th>wage_K</th>\n",
       "      <th>...</th>\n",
       "      <th>dribbling</th>\n",
       "      <th>defending</th>\n",
       "      <th>physic</th>\n",
       "      <th>heading</th>\n",
       "      <th>free_kick</th>\n",
       "      <th>ball_control</th>\n",
       "      <th>acceleration</th>\n",
       "      <th>speed</th>\n",
       "      <th>real_face_Yes</th>\n",
       "      <th>preferred_foot_Right</th>\n",
       "    </tr>\n",
       "  </thead>\n",
       "  <tbody>\n",
       "    <tr>\n",
       "      <td>0</td>\n",
       "      <td>158023</td>\n",
       "      <td>L. Messi</td>\n",
       "      <td>28</td>\n",
       "      <td>170</td>\n",
       "      <td>72</td>\n",
       "      <td>Argentina</td>\n",
       "      <td>FC Barcelona</td>\n",
       "      <td>94</td>\n",
       "      <td>111.00</td>\n",
       "      <td>550.0</td>\n",
       "      <td>...</td>\n",
       "      <td>95.0</td>\n",
       "      <td>24.0</td>\n",
       "      <td>62.0</td>\n",
       "      <td>71</td>\n",
       "      <td>90</td>\n",
       "      <td>96</td>\n",
       "      <td>95</td>\n",
       "      <td>90</td>\n",
       "      <td>1</td>\n",
       "      <td>0</td>\n",
       "    </tr>\n",
       "    <tr>\n",
       "      <td>1</td>\n",
       "      <td>20801</td>\n",
       "      <td>Cristiano Ronaldo</td>\n",
       "      <td>30</td>\n",
       "      <td>185</td>\n",
       "      <td>80</td>\n",
       "      <td>Portugal</td>\n",
       "      <td>Real Madrid</td>\n",
       "      <td>93</td>\n",
       "      <td>85.50</td>\n",
       "      <td>475.0</td>\n",
       "      <td>...</td>\n",
       "      <td>91.0</td>\n",
       "      <td>33.0</td>\n",
       "      <td>78.0</td>\n",
       "      <td>86</td>\n",
       "      <td>77</td>\n",
       "      <td>91</td>\n",
       "      <td>91</td>\n",
       "      <td>93</td>\n",
       "      <td>1</td>\n",
       "      <td>1</td>\n",
       "    </tr>\n",
       "    <tr>\n",
       "      <td>2</td>\n",
       "      <td>9014</td>\n",
       "      <td>A. Robben</td>\n",
       "      <td>31</td>\n",
       "      <td>180</td>\n",
       "      <td>80</td>\n",
       "      <td>Netherlands</td>\n",
       "      <td>FC Bayern München</td>\n",
       "      <td>90</td>\n",
       "      <td>56.00</td>\n",
       "      <td>250.0</td>\n",
       "      <td>...</td>\n",
       "      <td>92.0</td>\n",
       "      <td>32.0</td>\n",
       "      <td>64.0</td>\n",
       "      <td>51</td>\n",
       "      <td>83</td>\n",
       "      <td>90</td>\n",
       "      <td>92</td>\n",
       "      <td>92</td>\n",
       "      <td>1</td>\n",
       "      <td>0</td>\n",
       "    </tr>\n",
       "    <tr>\n",
       "      <td>3</td>\n",
       "      <td>167495</td>\n",
       "      <td>M. Neuer</td>\n",
       "      <td>29</td>\n",
       "      <td>193</td>\n",
       "      <td>92</td>\n",
       "      <td>Germany</td>\n",
       "      <td>FC Bayern München</td>\n",
       "      <td>90</td>\n",
       "      <td>58.00</td>\n",
       "      <td>250.0</td>\n",
       "      <td>...</td>\n",
       "      <td>NaN</td>\n",
       "      <td>NaN</td>\n",
       "      <td>NaN</td>\n",
       "      <td>25</td>\n",
       "      <td>11</td>\n",
       "      <td>31</td>\n",
       "      <td>58</td>\n",
       "      <td>61</td>\n",
       "      <td>1</td>\n",
       "      <td>1</td>\n",
       "    </tr>\n",
       "    <tr>\n",
       "      <td>4</td>\n",
       "      <td>176580</td>\n",
       "      <td>L. Suárez</td>\n",
       "      <td>28</td>\n",
       "      <td>182</td>\n",
       "      <td>85</td>\n",
       "      <td>Uruguay</td>\n",
       "      <td>FC Barcelona</td>\n",
       "      <td>90</td>\n",
       "      <td>69.00</td>\n",
       "      <td>300.0</td>\n",
       "      <td>...</td>\n",
       "      <td>87.0</td>\n",
       "      <td>42.0</td>\n",
       "      <td>79.0</td>\n",
       "      <td>77</td>\n",
       "      <td>84</td>\n",
       "      <td>91</td>\n",
       "      <td>88</td>\n",
       "      <td>78</td>\n",
       "      <td>1</td>\n",
       "      <td>1</td>\n",
       "    </tr>\n",
       "    <tr>\n",
       "      <td>...</td>\n",
       "      <td>...</td>\n",
       "      <td>...</td>\n",
       "      <td>...</td>\n",
       "      <td>...</td>\n",
       "      <td>...</td>\n",
       "      <td>...</td>\n",
       "      <td>...</td>\n",
       "      <td>...</td>\n",
       "      <td>...</td>\n",
       "      <td>...</td>\n",
       "      <td>...</td>\n",
       "      <td>...</td>\n",
       "      <td>...</td>\n",
       "      <td>...</td>\n",
       "      <td>...</td>\n",
       "      <td>...</td>\n",
       "      <td>...</td>\n",
       "      <td>...</td>\n",
       "      <td>...</td>\n",
       "      <td>...</td>\n",
       "      <td>...</td>\n",
       "    </tr>\n",
       "    <tr>\n",
       "      <td>14876</td>\n",
       "      <td>224867</td>\n",
       "      <td>R. Horne</td>\n",
       "      <td>19</td>\n",
       "      <td>180</td>\n",
       "      <td>76</td>\n",
       "      <td>England</td>\n",
       "      <td>Cambridge United</td>\n",
       "      <td>44</td>\n",
       "      <td>0.06</td>\n",
       "      <td>1.0</td>\n",
       "      <td>...</td>\n",
       "      <td>47.0</td>\n",
       "      <td>39.0</td>\n",
       "      <td>52.0</td>\n",
       "      <td>39</td>\n",
       "      <td>41</td>\n",
       "      <td>42</td>\n",
       "      <td>67</td>\n",
       "      <td>60</td>\n",
       "      <td>0</td>\n",
       "      <td>1</td>\n",
       "    </tr>\n",
       "    <tr>\n",
       "      <td>14877</td>\n",
       "      <td>229852</td>\n",
       "      <td>C. Shephard</td>\n",
       "      <td>17</td>\n",
       "      <td>173</td>\n",
       "      <td>69</td>\n",
       "      <td>Wales</td>\n",
       "      <td>Newport County</td>\n",
       "      <td>44</td>\n",
       "      <td>0.05</td>\n",
       "      <td>1.0</td>\n",
       "      <td>...</td>\n",
       "      <td>49.0</td>\n",
       "      <td>32.0</td>\n",
       "      <td>46.0</td>\n",
       "      <td>35</td>\n",
       "      <td>37</td>\n",
       "      <td>43</td>\n",
       "      <td>68</td>\n",
       "      <td>70</td>\n",
       "      <td>0</td>\n",
       "      <td>1</td>\n",
       "    </tr>\n",
       "    <tr>\n",
       "      <td>14878</td>\n",
       "      <td>227910</td>\n",
       "      <td>L. Gooch</td>\n",
       "      <td>17</td>\n",
       "      <td>181</td>\n",
       "      <td>65</td>\n",
       "      <td>England</td>\n",
       "      <td>Luton Town</td>\n",
       "      <td>44</td>\n",
       "      <td>0.04</td>\n",
       "      <td>1.0</td>\n",
       "      <td>...</td>\n",
       "      <td>NaN</td>\n",
       "      <td>NaN</td>\n",
       "      <td>NaN</td>\n",
       "      <td>14</td>\n",
       "      <td>17</td>\n",
       "      <td>23</td>\n",
       "      <td>42</td>\n",
       "      <td>41</td>\n",
       "      <td>0</td>\n",
       "      <td>1</td>\n",
       "    </tr>\n",
       "    <tr>\n",
       "      <td>14879</td>\n",
       "      <td>225339</td>\n",
       "      <td>S. Warburton</td>\n",
       "      <td>18</td>\n",
       "      <td>171</td>\n",
       "      <td>64</td>\n",
       "      <td>England</td>\n",
       "      <td>Northampton Town</td>\n",
       "      <td>44</td>\n",
       "      <td>0.03</td>\n",
       "      <td>1.0</td>\n",
       "      <td>...</td>\n",
       "      <td>45.0</td>\n",
       "      <td>43.0</td>\n",
       "      <td>45.0</td>\n",
       "      <td>39</td>\n",
       "      <td>28</td>\n",
       "      <td>35</td>\n",
       "      <td>62</td>\n",
       "      <td>55</td>\n",
       "      <td>0</td>\n",
       "      <td>0</td>\n",
       "    </tr>\n",
       "    <tr>\n",
       "      <td>14880</td>\n",
       "      <td>11728</td>\n",
       "      <td>B. Richardson</td>\n",
       "      <td>45</td>\n",
       "      <td>185</td>\n",
       "      <td>77</td>\n",
       "      <td>England</td>\n",
       "      <td>Wycombe Wanderers</td>\n",
       "      <td>44</td>\n",
       "      <td>0.01</td>\n",
       "      <td>1.0</td>\n",
       "      <td>...</td>\n",
       "      <td>NaN</td>\n",
       "      <td>NaN</td>\n",
       "      <td>NaN</td>\n",
       "      <td>12</td>\n",
       "      <td>11</td>\n",
       "      <td>22</td>\n",
       "      <td>25</td>\n",
       "      <td>25</td>\n",
       "      <td>0</td>\n",
       "      <td>1</td>\n",
       "    </tr>\n",
       "  </tbody>\n",
       "</table>\n",
       "<p>14881 rows × 27 columns</p>\n",
       "</div>"
      ],
      "text/plain": [
       "           id               name  age  height  weight  nationality  \\\n",
       "0      158023           L. Messi   28     170      72    Argentina   \n",
       "1       20801  Cristiano Ronaldo   30     185      80     Portugal   \n",
       "2        9014          A. Robben   31     180      80  Netherlands   \n",
       "3      167495           M. Neuer   29     193      92      Germany   \n",
       "4      176580          L. Suárez   28     182      85      Uruguay   \n",
       "...       ...                ...  ...     ...     ...          ...   \n",
       "14876  224867           R. Horne   19     180      76      England   \n",
       "14877  229852        C. Shephard   17     173      69        Wales   \n",
       "14878  227910           L. Gooch   17     181      65      England   \n",
       "14879  225339       S. Warburton   18     171      64      England   \n",
       "14880   11728      B. Richardson   45     185      77      England   \n",
       "\n",
       "                    club  rating  value_M  wage_K  ... dribbling defending  \\\n",
       "0           FC Barcelona      94   111.00   550.0  ...      95.0      24.0   \n",
       "1            Real Madrid      93    85.50   475.0  ...      91.0      33.0   \n",
       "2      FC Bayern München      90    56.00   250.0  ...      92.0      32.0   \n",
       "3      FC Bayern München      90    58.00   250.0  ...       NaN       NaN   \n",
       "4           FC Barcelona      90    69.00   300.0  ...      87.0      42.0   \n",
       "...                  ...     ...      ...     ...  ...       ...       ...   \n",
       "14876   Cambridge United      44     0.06     1.0  ...      47.0      39.0   \n",
       "14877     Newport County      44     0.05     1.0  ...      49.0      32.0   \n",
       "14878         Luton Town      44     0.04     1.0  ...       NaN       NaN   \n",
       "14879   Northampton Town      44     0.03     1.0  ...      45.0      43.0   \n",
       "14880  Wycombe Wanderers      44     0.01     1.0  ...       NaN       NaN   \n",
       "\n",
       "      physic  heading  free_kick  ball_control  acceleration  speed  \\\n",
       "0       62.0       71         90            96            95     90   \n",
       "1       78.0       86         77            91            91     93   \n",
       "2       64.0       51         83            90            92     92   \n",
       "3        NaN       25         11            31            58     61   \n",
       "4       79.0       77         84            91            88     78   \n",
       "...      ...      ...        ...           ...           ...    ...   \n",
       "14876   52.0       39         41            42            67     60   \n",
       "14877   46.0       35         37            43            68     70   \n",
       "14878    NaN       14         17            23            42     41   \n",
       "14879   45.0       39         28            35            62     55   \n",
       "14880    NaN       12         11            22            25     25   \n",
       "\n",
       "       real_face_Yes  preferred_foot_Right  \n",
       "0                  1                     0  \n",
       "1                  1                     1  \n",
       "2                  1                     0  \n",
       "3                  1                     1  \n",
       "4                  1                     1  \n",
       "...              ...                   ...  \n",
       "14876              0                     1  \n",
       "14877              0                     1  \n",
       "14878              0                     1  \n",
       "14879              0                     0  \n",
       "14880              0                     1  \n",
       "\n",
       "[14881 rows x 27 columns]"
      ]
     },
     "execution_count": 10,
     "metadata": {},
     "output_type": "execute_result"
    }
   ],
   "source": [
    "hu"
   ]
  },
  {
   "cell_type": "code",
   "execution_count": 11,
   "metadata": {},
   "outputs": [
    {
     "ename": "SyntaxError",
     "evalue": "keyword argument repeated (<ipython-input-11-ec03833645d8>, line 1)",
     "output_type": "error",
     "traceback": [
      "\u001b[1;36m  File \u001b[1;32m\"<ipython-input-11-ec03833645d8>\"\u001b[1;36m, line \u001b[1;32m1\u001b[0m\n\u001b[1;33m    g = sns.lineplot(data=hu, x='age', y='value_M', data=hu).set_title('hi')\u001b[0m\n\u001b[1;37m                                                   ^\u001b[0m\n\u001b[1;31mSyntaxError\u001b[0m\u001b[1;31m:\u001b[0m keyword argument repeated\n"
     ]
    }
   ],
   "source": [
    "g = sns.lineplot(data=hu, x='age', y='value_M', data=hu).set_title('hi')\n",
    "plt.show()"
   ]
  },
  {
   "cell_type": "code",
   "execution_count": null,
   "metadata": {},
   "outputs": [],
   "source": []
  },
  {
   "cell_type": "code",
   "execution_count": null,
   "metadata": {},
   "outputs": [],
   "source": []
  },
  {
   "cell_type": "code",
   "execution_count": null,
   "metadata": {},
   "outputs": [],
   "source": [
    "nationality = hu.groupby(['nationality', 'club'])"
   ]
  },
  {
   "cell_type": "code",
   "execution_count": null,
   "metadata": {},
   "outputs": [],
   "source": [
    "nationality"
   ]
  },
  {
   "cell_type": "code",
   "execution_count": null,
   "metadata": {},
   "outputs": [],
   "source": [
    "# plot\n",
    "sns.set_style('ticks')\n",
    "fig, ax = plt.subplots()\n",
    "# the size of A4 paper\n",
    "ffig.set_size_inches(11.7, 8.27)\n",
    "sns.scatterplot(x='age', y='value_M')"
   ]
  },
  {
   "cell_type": "code",
   "execution_count": null,
   "metadata": {},
   "outputs": [],
   "source": [
    "# plot\n",
    "#sns.set_style('ticks')\n",
    "#fig, ax = plt.subplots()\n",
    "# the size of A4 paper\n",
    "fig.set_size_inches(11.7, 8.27)\n",
    "sns.scatterplot(data=hu, x='rating', y='value_M')\n"
   ]
  },
  {
   "cell_type": "code",
   "execution_count": null,
   "metadata": {},
   "outputs": [],
   "source": [
    "sns.dogplot()"
   ]
  },
  {
   "cell_type": "code",
   "execution_count": null,
   "metadata": {},
   "outputs": [],
   "source": []
  }
 ],
 "metadata": {
  "kernelspec": {
   "display_name": "Python 3",
   "language": "python",
   "name": "python3"
  },
  "language_info": {
   "codemirror_mode": {
    "name": "ipython",
    "version": 3
   },
   "file_extension": ".py",
   "mimetype": "text/x-python",
   "name": "python",
   "nbconvert_exporter": "python",
   "pygments_lexer": "ipython3",
   "version": "3.7.4"
  }
 },
 "nbformat": 4,
 "nbformat_minor": 2
}
