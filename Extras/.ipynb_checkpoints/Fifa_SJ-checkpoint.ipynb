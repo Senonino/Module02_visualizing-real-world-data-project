{
 "cells": [
  {
   "cell_type": "code",
   "execution_count": 1,
   "metadata": {},
   "outputs": [],
   "source": [
    "import numpy as np\n",
    "import pandas as pd\n",
    "from math import pi\n",
    "import matplotlib.pyplot as plt\n",
    "from sklearn import linear_model\n",
    "from sklearn.metrics import mean_squared_error, r2_score\n",
    "from sklearn.preprocessing import PolynomialFeatures\n",
    "import seaborn as sns\n",
    "\n",
    "sns.set(style = 'dark')\n",
    "%matplotlib inline\n",
    "pd.options.display.max_rows = 9999\n",
    "pd.options.display.max_columns = 9999"
   ]
  },
  {
   "cell_type": "code",
   "execution_count": 3,
   "metadata": {},
   "outputs": [
    {
     "ename": "NameError",
     "evalue": "name 'pd' is not defined",
     "output_type": "error",
     "traceback": [
      "\u001b[1;31m---------------------------------------------------------------------------\u001b[0m",
      "\u001b[1;31mNameError\u001b[0m                                 Traceback (most recent call last)",
      "\u001b[1;32m<ipython-input-3-889d91f74604>\u001b[0m in \u001b[0;36m<module>\u001b[1;34m\u001b[0m\n\u001b[1;32m----> 1\u001b[1;33m \u001b[0mfifa_16\u001b[0m \u001b[1;33m=\u001b[0m \u001b[0mpd\u001b[0m\u001b[1;33m.\u001b[0m\u001b[0mread_csv\u001b[0m\u001b[1;33m(\u001b[0m\u001b[1;34m\"cleaned_fifa_16.csv\"\u001b[0m\u001b[1;33m)\u001b[0m\u001b[1;33m\u001b[0m\u001b[1;33m\u001b[0m\u001b[0m\n\u001b[0m\u001b[0;32m      2\u001b[0m \u001b[0mfifa_17\u001b[0m \u001b[1;33m=\u001b[0m \u001b[0mpd\u001b[0m\u001b[1;33m.\u001b[0m\u001b[0mread_csv\u001b[0m\u001b[1;33m(\u001b[0m\u001b[1;34m\"cleaned_fifa_17.csv\"\u001b[0m\u001b[1;33m)\u001b[0m\u001b[1;33m\u001b[0m\u001b[1;33m\u001b[0m\u001b[0m\n\u001b[0;32m      3\u001b[0m \u001b[0mfifa_18\u001b[0m \u001b[1;33m=\u001b[0m \u001b[0mpd\u001b[0m\u001b[1;33m.\u001b[0m\u001b[0mread_csv\u001b[0m\u001b[1;33m(\u001b[0m\u001b[1;34m\"cleaned_fifa_18.csv\"\u001b[0m\u001b[1;33m)\u001b[0m\u001b[1;33m\u001b[0m\u001b[1;33m\u001b[0m\u001b[0m\n\u001b[0;32m      4\u001b[0m \u001b[0mfifa_19\u001b[0m \u001b[1;33m=\u001b[0m \u001b[0mpd\u001b[0m\u001b[1;33m.\u001b[0m\u001b[0mread_csv\u001b[0m\u001b[1;33m(\u001b[0m\u001b[1;34m\"cleaned_fifa_19.csv\"\u001b[0m\u001b[1;33m)\u001b[0m\u001b[1;33m\u001b[0m\u001b[1;33m\u001b[0m\u001b[0m\n\u001b[0;32m      5\u001b[0m \u001b[0mfifa_20\u001b[0m \u001b[1;33m=\u001b[0m \u001b[0mpd\u001b[0m\u001b[1;33m.\u001b[0m\u001b[0mread_csv\u001b[0m\u001b[1;33m(\u001b[0m\u001b[1;34m\"cleaned_fifa_20.csv\"\u001b[0m\u001b[1;33m)\u001b[0m\u001b[1;33m\u001b[0m\u001b[1;33m\u001b[0m\u001b[0m\n",
      "\u001b[1;31mNameError\u001b[0m: name 'pd' is not defined"
     ]
    }
   ],
   "source": [
    "fifa_16 = pd.read_csv(\"cleaned_fifa_16.csv\")\n",
    "fifa_17 = pd.read_csv(\"cleaned_fifa_17.csv\")\n",
    "fifa_18 = pd.read_csv(\"cleaned_fifa_18.csv\")\n",
    "fifa_19 = pd.read_csv(\"cleaned_fifa_19.csv\")\n",
    "fifa_20 = pd.read_csv(\"cleaned_fifa_20.csv\")"
   ]
  },
  {
   "cell_type": "code",
   "execution_count": null,
   "metadata": {},
   "outputs": [],
   "source": [
    "fifa_15.head(2)"
   ]
  },
  {
   "cell_type": "code",
   "execution_count": null,
   "metadata": {},
   "outputs": [],
   "source": [
    "fifa_16.head(3)"
   ]
  },
  {
   "cell_type": "code",
   "execution_count": null,
   "metadata": {},
   "outputs": [],
   "source": [
    "fifa_17.head(2)"
   ]
  },
  {
   "cell_type": "code",
   "execution_count": null,
   "metadata": {},
   "outputs": [],
   "source": [
    "fifa_18.head(2)"
   ]
  },
  {
   "cell_type": "code",
   "execution_count": null,
   "metadata": {},
   "outputs": [],
   "source": [
    "fifa_19.head(2)"
   ]
  },
  {
   "cell_type": "code",
   "execution_count": null,
   "metadata": {},
   "outputs": [],
   "source": [
    "fifa_20.head(2)"
   ]
  },
  {
   "cell_type": "code",
   "execution_count": null,
   "metadata": {},
   "outputs": [],
   "source": [
    "fifa_15.columns"
   ]
  },
  {
   "cell_type": "code",
   "execution_count": null,
   "metadata": {},
   "outputs": [],
   "source": [
    "fifa_15.describe()"
   ]
  },
  {
   "cell_type": "code",
   "execution_count": null,
   "metadata": {},
   "outputs": [],
   "source": [
    "#Radar plot:\n",
    "Messi = {'Pace':89,'Shooting':90,'Passing':86,'Dribbling':95,'Defending':26,'Physical':61}\n",
    "Ronaldo = {'Pace':90,'Shooting':93,'Passing':82,'Dribbling':90,'Defending':33,'Physical':80}"
   ]
  },
  {
   "cell_type": "code",
   "execution_count": null,
   "metadata": {},
   "outputs": [],
   "source": [
    "radar_15 = fifa_15[[\"short_name\", \"pace\", \"shooting\", \"passing\", \"dribbling\", \"defending\", \"physic\"]]\n",
    "radar_15 = radar_15.set_index([\"short_name\"])\n",
    "radar_15 = radar_15.dropna()\n",
    "radar_15.head(2)"
   ]
  },
  {
   "cell_type": "code",
   "execution_count": null,
   "metadata": {},
   "outputs": [],
   "source": [
    "radar_15.describe()"
   ]
  },
  {
   "cell_type": "code",
   "execution_count": null,
   "metadata": {},
   "outputs": [],
   "source": [
    "# make a list out of the columns' names and call it Attributes\n",
    "Attributes =list(radar_15)\n",
    "AttNo = len(Attributes)"
   ]
  },
  {
   "cell_type": "code",
   "execution_count": null,
   "metadata": {},
   "outputs": [],
   "source": [
    "# Rondaldo's values\n",
    "values = radar_15.iloc[1].tolist()\n",
    "values += values [:1]\n",
    "values"
   ]
  },
  {
   "cell_type": "code",
   "execution_count": null,
   "metadata": {},
   "outputs": [],
   "source": [
    "# Radar plot angles:\n",
    "angles = [n / float(AttNo) * 2 * pi for n in range(AttNo)]\n",
    "angles += angles [:1]"
   ]
  },
  {
   "cell_type": "code",
   "execution_count": null,
   "metadata": {},
   "outputs": [],
   "source": [
    "ax = plt.subplot(111, polar=True)\n",
    "\n",
    "#Add the attribute labels to our axes\n",
    "plt.xticks(angles[:-1],Attributes)\n",
    "\n",
    "#Plot the line around the outside of the filled area, using the angles and values calculated before\n",
    "ax.plot(angles,values)\n",
    "\n",
    "#Fill in the area plotted in the last line\n",
    "ax.fill(angles, values, 'teal', alpha=0.1)\n",
    "\n",
    "#Give the plot a title and show it\n",
    "ax.set_title(\"Ronaldo\")\n",
    "plt.show()"
   ]
  },
  {
   "cell_type": "code",
   "execution_count": null,
   "metadata": {},
   "outputs": [],
   "source": [
    "#Find the values and angles for Messi\n",
    "values2 = radar_15.iloc[0].tolist()\n",
    "values2 += values2 [:1]\n",
    "\n",
    "angles2 = [n / float(AttNo) * 2 * pi for n in range(AttNo)]\n",
    "angles2 += angles2 [:1]"
   ]
  },
  {
   "cell_type": "code",
   "execution_count": null,
   "metadata": {},
   "outputs": [],
   "source": [
    "#Create the chart as before, but with both Ronaldo's and Messi's angles/values\n",
    "ax = plt.subplot(111, polar=True)\n",
    "\n",
    "plt.xticks(angles[:-1],Attributes)\n",
    "\n",
    "ax.plot(angles,values)\n",
    "ax.fill(angles, values, 'teal', alpha=0.1)\n",
    "\n",
    "ax.plot(angles2,values2)\n",
    "ax.fill(angles2, values2, 'red', alpha=0.1)\n",
    "\n",
    "#Rather than use a title, individual text points are added\n",
    "plt.figtext(0.2,0.9,\"Messi\",color=\"red\")\n",
    "plt.figtext(0.2,0.85,\"vs\")\n",
    "plt.figtext(0.2,0.8,\"Ronaldo\",color=\"teal\")\n",
    "plt.show()"
   ]
  },
  {
   "cell_type": "code",
   "execution_count": null,
   "metadata": {},
   "outputs": [],
   "source": [
    "# Creating a function to plot individual players\n",
    "def createRadar(df, player):\n",
    "    Attributes =list(radar_15)\n",
    "    AttNo = len(Attributes)\n",
    "    \n",
    "    data = df.loc[player, :].tolist()\n",
    "    data += data [:1]\n",
    "    \n",
    "    angles2 = [n / float(AttNo) * 2 * pi for n in range(AttNo)]\n",
    "    angles2 += angles2 [:1]\n",
    "    \n",
    "    ax = plt.subplot(111, polar=True)\n",
    "\n",
    "    plt.xticks(angles[:-1],Attributes)\n",
    "    ax.plot(angles,data)\n",
    "    ax.fill(angles, data, 'blue', alpha=0.1)\n",
    "\n",
    "    ax.set_title(player)\n",
    "    plt.show()"
   ]
  },
  {
   "cell_type": "code",
   "execution_count": null,
   "metadata": {},
   "outputs": [],
   "source": [
    "#Example:\n",
    "createRadar(radar_15, \"L. Messi\")"
   ]
  },
  {
   "cell_type": "code",
   "execution_count": null,
   "metadata": {},
   "outputs": [],
   "source": [
    "# Function to compare two players\n",
    "def createRadar2(df1, player1, df2, player2):\n",
    "    Attributes =list(radar_15)\n",
    "    AttNo = len(Attributes)\n",
    "    \n",
    "    data = df1.loc[player1, :].tolist()\n",
    "    data += data [:1]\n",
    "    \n",
    "    angles = [n / float(AttNo) * 2 * pi for n in range(AttNo)]\n",
    "    angles += angles [:1]\n",
    "    \n",
    "    data2 = df2.loc[player2, :].tolist()\n",
    "    data2 += data2 [:1]\n",
    "    \n",
    "    angles2 = [n / float(AttNo) * 2 * pi for n in range(AttNo)]\n",
    "    angles2 += angles2 [:1]\n",
    "    \n",
    "    ax = plt.subplot(111, polar=True)\n",
    "\n",
    "    #Create the chart as before, but with both Ronaldo's and Messi's angles/values\n",
    "    ax = plt.subplot(111, polar=True)\n",
    "\n",
    "    plt.xticks(angles[:-1],Attributes)\n",
    "\n",
    "    ax.plot(angles,data)\n",
    "    ax.fill(angles, data, 'teal', alpha=0.1)\n",
    "\n",
    "    ax.plot(angles2,data2)\n",
    "    ax.fill(angles2, data2, 'red', alpha=0.1)\n",
    "\n",
    "    #Rather than use a title, individual text points are added\n",
    "    plt.figtext(0.2,0.9,player1,color=\"teal\")\n",
    "    plt.figtext(0.2,0.85,\"vs\")\n",
    "    plt.figtext(0.2,0.8,player2,color=\"red\")\n",
    "    plt.show()"
   ]
  },
  {
   "cell_type": "code",
   "execution_count": null,
   "metadata": {},
   "outputs": [],
   "source": [
    "#example:\n",
    "createRadar2(radar_15, \"Cristiano Ronaldo\", radar_15,\"L. Messi\");"
   ]
  },
  {
   "cell_type": "code",
   "execution_count": null,
   "metadata": {},
   "outputs": [],
   "source": [
    "scatter_16 = fifa_16[[\"value_eur\", \"overall\", \"team_position\"]]\n",
    "scatter_16[\"value (M)\"] = scatter_16[\"value_eur\"]/1000000\n",
    "scatter_16"
   ]
  },
  {
   "cell_type": "code",
   "execution_count": null,
   "metadata": {},
   "outputs": [],
   "source": [
    "X = scatter_16['overall'].values.reshape(-1,1)\n",
    "y = scatter_16['value (M)'].values.reshape(-1,1)\n",
    "regr = linear_model.LinearRegression().fit(X, y)\n",
    "\n",
    "y_pred = regr.predict(X)\n",
    "print('Coefficients: ', regr.coef_)\n",
    "print('Mean squared error: %.2f'% mean_squared_error(y, y_pred))\n",
    "print('Variance score: %.2f'% r2_score(y, y_pred))"
   ]
  },
  {
   "cell_type": "code",
   "execution_count": null,
   "metadata": {
    "scrolled": false
   },
   "outputs": [],
   "source": [
    "def plot_chart(X, y, y_pred, x_l, x_h, y_l, y_h, c):\n",
    "    plt.figure(figsize = (15,10))\n",
    "    plt.scatter(X, y, c =c)\n",
    "    plt.plot(X, y_pred, c ='gray', linewidth=3)\n",
    "\n",
    "    plt.title('Player value vs rating')\n",
    "    plt.ylim(y_l,y_h)\n",
    "    plt.xlim(x_l,x_h)\n",
    "    plt.ylabel('Value (Million)')\n",
    "    plt.xlabel('Player rating')\n",
    "    \n",
    "plot_chart(X, y, y_pred, 40, 100, 0, 130, 'lightblue')"
   ]
  },
  {
   "cell_type": "markdown",
   "metadata": {},
   "source": [
    "A few observations:\n",
    "\n",
    "    Linear regression is not a good fit to the data (let's try polynomial models)\n",
    "    There are a lot of players with zero value that skewed the dataset (let's exclude those from our analysis)"
   ]
  },
  {
   "cell_type": "code",
   "execution_count": null,
   "metadata": {},
   "outputs": [],
   "source": [
    "#The Overall Rating\n",
    "plt.figure(figsize=(18,10))\n",
    "sns.countplot(fifa_15['overall'], palette='rocket')\n",
    "plt.show()"
   ]
  },
  {
   "cell_type": "code",
   "execution_count": null,
   "metadata": {},
   "outputs": [],
   "source": [
    "fifa_16.sort_values(by = 'skill_fk_accuracy' , ascending = False)[['short_name','club','nationality','overall', 'age','skill_fk_accuracy']].head(5)"
   ]
  },
  {
   "cell_type": "code",
   "execution_count": null,
   "metadata": {},
   "outputs": [],
   "source": [
    "#Age Distribution\n",
    "clubs = ['Chelsea' , 'Arsenal', 'Liverpool', 'Manchester City', 'Manchester United', \n",
    "         'Juventus', 'Roma', 'Napoli', 'Inter', 'Milan', \n",
    "         'Paris Sain-Germain' ,\n",
    "         'FC Bayern München', 'Borussia Dortmund', \n",
    "         'Real Madrid' , 'FC Barcelona' , 'Atlético Madrid']"
   ]
  },
  {
   "cell_type": "code",
   "execution_count": null,
   "metadata": {},
   "outputs": [],
   "source": [
    "fifa_club_age = fifa_16.loc[fifa_16['club'].isin(clubs) & fifa_16['age']]\n",
    "plt.figure(1 , figsize = (15 ,7))\n",
    "sns.violinplot(x = 'club' , y = 'age' , data = fifa_club_age,palette='rocket')\n",
    "plt.title('Age Distribution in famous clubs')\n",
    "plt.xticks(rotation = 50)\n",
    "plt.show()"
   ]
  },
  {
   "cell_type": "code",
   "execution_count": null,
   "metadata": {},
   "outputs": [],
   "source": [
    "#The Best Club\n",
    "best_dict = {}\n",
    "for club in fifa_16['club'].unique():\n",
    "    overall_rating = fifa_16['overall'][fifa_16['club'] == club].sum()\n",
    "    best_dict[club] = overall_rating\n",
    "best_club = pd.DataFrame.from_dict(best_dict,orient='index', columns = ['overall'])\n",
    "best_club['club'] = best_club.index\n",
    "best_club = best_club.sort_values(by = 'overall' , ascending =  False)\n",
    "\n",
    "plt.figure(1 , figsize = (15 , 6))\n",
    "sns.barplot(x = 'club' , y  = 'overall' , data = best_club.head(5),palette='rocket')  \n",
    "plt.xticks(rotation = 70)\n",
    "plt.xlabel(\"Club\")\n",
    "plt.ylabel('Sum of Overall Rating of players in club')\n",
    "plt.title('Clubs with best Players (sum of overall ratings of players per club)')\n",
    "plt.ylim(2250 , 2450)\n",
    "plt.show()\n",
    "\n"
   ]
  },
  {
   "cell_type": "code",
   "execution_count": null,
   "metadata": {},
   "outputs": [],
   "source": [
    "countries = ['England' , 'Brazil' , 'Portugal' ,'Argentina',\n",
    "             'Italy' , 'Spain' , 'Germany' ,'Netherlands','France']"
   ]
  },
  {
   "cell_type": "code",
   "execution_count": null,
   "metadata": {},
   "outputs": [],
   "source": [
    "#Age Distribution\n",
    "fifa_country_age = fifa_16.loc[fifa_16['nationality'].isin(countries) & fifa_16['age']]\n",
    "plt.figure(1 , figsize = (15 ,7))\n",
    "sns.violinplot(x = 'nationality' , y = 'age' , data = fifa_country_age, palette='rocket')\n",
    "plt.title('Age Distribution in famous clubs')\n",
    "plt.xticks(rotation = 50)\n",
    "plt.show()\n"
   ]
  },
  {
   "cell_type": "code",
   "execution_count": null,
   "metadata": {},
   "outputs": [],
   "source": [
    "#Overall Rating\n",
    "fifa_country_rating = fifa_16.loc[fifa_16['nationality'].isin(countries) & fifa_16['overall']]\n",
    "plt.figure(1 , figsize = (15 ,7))\n",
    "sns.violinplot(x = 'nationality' , y = 'overall' , data = fifa_country_age, palette='rocket')\n",
    "plt.title('Overall Rating Distribution in famous clubs')\n",
    "plt.xticks(rotation = 50)\n",
    "plt.show()\n"
   ]
  },
  {
   "cell_type": "code",
   "execution_count": null,
   "metadata": {},
   "outputs": [],
   "source": [
    "#The Best Country\n",
    "best_dict = {}\n",
    "for country in fifa_16['nationality'].unique():\n",
    "    overall_rating = fifa_16['overall'][fifa_16['nationality'] == country].sum()\n",
    "    best_dict[country] = overall_rating\n",
    "best_country = pd.DataFrame.from_dict(best_dict,orient='index', columns = ['overall'])\n",
    "best_country['club'] = best_country.index\n",
    "best_country = best_country.sort_values(by = 'overall' , ascending =  False)\n",
    "\n",
    "plt.figure(1 , figsize = (15 , 6))\n",
    "sns.barplot(x = 'club' , y  = 'overall' , data = best_country.head(10),palette='rocket')  \n",
    "plt.xticks(rotation = 70)\n",
    "plt.xlabel(\"Country\")\n",
    "plt.ylabel('Sum of Overall Rating of players in a country')\n",
    "plt.title('Countries with best Players (sum of overall ratings of players per club)')\n",
    "plt.show()\n"
   ]
  },
  {
   "cell_type": "code",
   "execution_count": null,
   "metadata": {},
   "outputs": [],
   "source": [
    "#The Top 10 Players\n",
    "fifa_best_players = pd.DataFrame.copy(fifa_16.sort_values(by = 'overall' , ascending = False ).head(10))\n",
    "\n",
    "plt.figure(1 , figsize = (15 , 5))\n",
    "sns.barplot(x ='short_name' , y = 'overall' , data = fifa_best_players,palette='rocket')\n",
    "\n",
    "plt.ylim(87 , 95)\n",
    "plt.show()\n"
   ]
  },
  {
   "cell_type": "code",
   "execution_count": null,
   "metadata": {},
   "outputs": [],
   "source": [
    "fifa_16.sort_values(by = 'wage_eur' , ascending = False)[['short_name','club','nationality','overall',\n",
    "'age','wage_eur']].head()"
   ]
  },
  {
   "cell_type": "code",
   "execution_count": null,
   "metadata": {},
   "outputs": [],
   "source": [
    "#Correlations among different variables\n",
    "numcols = ['overall', 'potential', 'pace', 'shooting', 'passing',  'dribbling',  'defending','physic', 'movement_sprint_speed', \n",
    "           'movement_acceleration', 'power_shot_power','wage_eur']\n",
    "catcols = ['short_name','club','nationality','preferred_foot','player_positions','body_type']\n",
    "player_df = fifa_16[numcols+ catcols]"
   ]
  },
  {
   "cell_type": "code",
   "execution_count": null,
   "metadata": {
    "scrolled": false
   },
   "outputs": [],
   "source": [
    "corr = player_df.corr()\n",
    "g = sns.heatmap(corr,  vmax=.3, center=0,\n",
    "            square=True, linewidths=.5, cbar_kws={\"shrink\": .5}, annot=True, fmt='.2f', cmap='coolwarm')\n",
    "sns.despine()\n",
    "g.figure.set_size_inches(14,10)\n",
    "    \n",
    "plt.show()"
   ]
  },
  {
   "cell_type": "code",
   "execution_count": null,
   "metadata": {},
   "outputs": [],
   "source": [
    "#Choosing clubs and nationalities in order to perform the check\n",
    "filtered_player_df = fifa_16[(fifa_16['club'].isin(['Chelsea' , 'Arsenal', 'Liverpool', 'Manchester City', \n",
    "                                                    'Manchester United', \n",
    "                                                    'Juventus', 'Roma', 'Napoli', 'Inter', 'Milan',\n",
    "                                                    'Paris Sain-Germain' \n",
    "                                                    'FC Bayern München', 'Borussia Dortmund',\n",
    "                                                    'Real Madrid' , 'FC Barcelona' , 'Atlético Madrid'])) &\n",
    "                             (player_df['nationality'].isin(['England' , 'Brazil' , 'Portugal' ,'Argentina', \n",
    "                                                             'Italy' , 'Spain' , 'Germany' ,'Netherlands','France']))]"
   ]
  },
  {
   "cell_type": "code",
   "execution_count": null,
   "metadata": {},
   "outputs": [],
   "source": [
    "#nationalites in the important clubs\n",
    "g = sns.boxplot(y = \"club\",\n",
    "              x = 'wage_eur', \n",
    "              data = filtered_player_df, whis=np.inf)\n",
    "g = sns.swarmplot(y = \"club\",\n",
    "              x = 'wage_eur', \n",
    "              data = filtered_player_df,\n",
    "              # Decrease the size of the points to avoid crowding \n",
    "              size = 7,color = 'black')\n",
    "# remove the top and right line in graph\n",
    "sns.despine()\n",
    "g.figure.set_size_inches(16,20)\n",
    "plt.show()"
   ]
  }
 ],
 "metadata": {
  "kernelspec": {
   "display_name": "Python 3",
   "language": "python",
   "name": "python3"
  },
  "language_info": {
   "codemirror_mode": {
    "name": "ipython",
    "version": 3
   },
   "file_extension": ".py",
   "mimetype": "text/x-python",
   "name": "python",
   "nbconvert_exporter": "python",
   "pygments_lexer": "ipython3",
   "version": "3.7.6"
  }
 },
 "nbformat": 4,
 "nbformat_minor": 2
}
